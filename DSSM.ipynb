{
 "cells": [
  {
   "cell_type": "code",
   "execution_count": 109,
   "id": "72d9ffd9-fce8-485c-bed9-31d31e2faf68",
   "metadata": {},
   "outputs": [],
   "source": [
    "import pandas as pd\n",
    "import numpy as np\n",
    "import tensorflow as tf\n",
    "from tensorflow import keras\n",
    "from tensorflow.keras import layers\n",
    "import matplotlib.pyplot as plt\n",
    "import collections\n",
    "import json"
   ]
  },
  {
   "cell_type": "code",
   "execution_count": 110,
   "id": "77683af7-c345-42de-9f18-0752c27aab01",
   "metadata": {},
   "outputs": [],
   "source": [
    "# 读取和处理数据\n",
    "data_path = \"/Users/ruilinwang/Desktop/recsys/\"\n",
    "df_user = pd.read_csv(data_path+'users.dat',\n",
    "                     sep=\"::\", header=None, engine=\"python\",\n",
    "                     names = \"UserID::Gender::Age::Occupation::Zip-code\".split(\"::\"))\n",
    "\n",
    "df_movie = pd.read_csv(data_path+'movies.dat',\n",
    "                     sep=\"::\", header=None, engine=\"python\",\n",
    "                     names = \"MovieID::Title::Genres\".split(\"::\"))\n",
    "\n",
    "df_rating = pd.read_csv(data_path+'ratings.dat',\n",
    "                     sep=\"::\", header=None, engine=\"python\",\n",
    "                     names = \"UserID::MovieID::Rating::Timestamp\".split(\"::\"))"
   ]
  },
  {
   "cell_type": "code",
   "execution_count": 111,
   "id": "f3389404-9804-4345-ae49-d19170c76005",
   "metadata": {},
   "outputs": [],
   "source": [
    "df_rating.to_csv(\"./recsys-web/resources/ratings.csv\", index=False)"
   ]
  },
  {
   "cell_type": "code",
   "execution_count": 112,
   "id": "69cad486-392e-4182-88be-3cb477576d6e",
   "metadata": {},
   "outputs": [
    {
     "data": {
      "text/plain": [
       "defaultdict(int,\n",
       "            {'Animation': 105,\n",
       "             \"Children's\": 251,\n",
       "             'Comedy': 1200,\n",
       "             'Adventure': 283,\n",
       "             'Fantasy': 68,\n",
       "             'Romance': 471,\n",
       "             'Drama': 1603,\n",
       "             'Action': 503,\n",
       "             'Crime': 211,\n",
       "             'Thriller': 492,\n",
       "             'Horror': 343,\n",
       "             'Sci-Fi': 276,\n",
       "             'Documentary': 127,\n",
       "             'War': 143,\n",
       "             'Musical': 114,\n",
       "             'Mystery': 106,\n",
       "             'Film-Noir': 44,\n",
       "             'Western': 68})"
      ]
     },
     "execution_count": 112,
     "metadata": {},
     "output_type": "execute_result"
    }
   ],
   "source": [
    "# 只取频率最高的item分类\n",
    "# 计算电影中每个题材的次数\n",
    "genre_count = collections.defaultdict(int)\n",
    "for genres in df_movie[\"Genres\"].str.split(\"|\"):\n",
    "    for genre in genres:\n",
    "        genre_count[genre] += 1\n",
    "genre_count"
   ]
  },
  {
   "cell_type": "code",
   "execution_count": 113,
   "id": "6f68d963-a92a-4d3b-a913-9b73beec30e5",
   "metadata": {},
   "outputs": [],
   "source": [
    "# 只保留最有代表性的题材\n",
    "def get_highrate_genre(x):\n",
    "    sub_values = {}\n",
    "    for genre in x.split(\"|\"):\n",
    "        sub_values[genre] = genre_count[genre]\n",
    "    return sorted(sub_values.items(), key=lambda x:x[1], reverse=True)[0][0]\n",
    "df_movie[\"Genres\"] = df_movie[\"Genres\"].map(get_highrate_genre)"
   ]
  },
  {
   "cell_type": "code",
   "execution_count": 114,
   "id": "8cab1ddd-26eb-453b-bd28-581f111d6883",
   "metadata": {},
   "outputs": [
    {
     "data": {
      "text/html": [
       "<div>\n",
       "<style scoped>\n",
       "    .dataframe tbody tr th:only-of-type {\n",
       "        vertical-align: middle;\n",
       "    }\n",
       "\n",
       "    .dataframe tbody tr th {\n",
       "        vertical-align: top;\n",
       "    }\n",
       "\n",
       "    .dataframe thead th {\n",
       "        text-align: right;\n",
       "    }\n",
       "</style>\n",
       "<table border=\"1\" class=\"dataframe\">\n",
       "  <thead>\n",
       "    <tr style=\"text-align: right;\">\n",
       "      <th></th>\n",
       "      <th>MovieID</th>\n",
       "      <th>Title</th>\n",
       "      <th>Genres</th>\n",
       "    </tr>\n",
       "  </thead>\n",
       "  <tbody>\n",
       "    <tr>\n",
       "      <th>1313</th>\n",
       "      <td>1333</td>\n",
       "      <td>Birds, The (1963)</td>\n",
       "      <td>Horror</td>\n",
       "    </tr>\n",
       "    <tr>\n",
       "      <th>146</th>\n",
       "      <td>148</td>\n",
       "      <td>Awfully Big Adventure, An (1995)</td>\n",
       "      <td>Drama</td>\n",
       "    </tr>\n",
       "    <tr>\n",
       "      <th>631</th>\n",
       "      <td>636</td>\n",
       "      <td>Frisk (1995)</td>\n",
       "      <td>Drama</td>\n",
       "    </tr>\n",
       "  </tbody>\n",
       "</table>\n",
       "</div>"
      ],
      "text/plain": [
       "      MovieID                             Title  Genres\n",
       "1313     1333                 Birds, The (1963)  Horror\n",
       "146       148  Awfully Big Adventure, An (1995)   Drama\n",
       "631       636                      Frisk (1995)   Drama"
      ]
     },
     "execution_count": 114,
     "metadata": {},
     "output_type": "execute_result"
    }
   ],
   "source": [
    "df_movie.sample(frac=1).head(3)"
   ]
  },
  {
   "cell_type": "code",
   "execution_count": 115,
   "id": "277f3adb-cdc6-47f0-abdc-63d0993b101a",
   "metadata": {},
   "outputs": [],
   "source": [
    "#给列新增数字索引列 目的是防止embedding过大\n",
    "def add_index_column(param_df, column_name):\n",
    "    values = list(param_df[column_name].unique())\n",
    "    value_index_dict = {value:idx for idx,value in enumerate(values)}\n",
    "    param_df[f\"{column_name}_idx\"] = param_df[column_name].map(value_index_dict)"
   ]
  },
  {
   "cell_type": "code",
   "execution_count": 116,
   "id": "31a032ff-1ebc-4b5b-8e28-f825fe0e4675",
   "metadata": {},
   "outputs": [],
   "source": [
    "add_index_column(df_user, \"UserID\")\n",
    "add_index_column(df_user, \"Gender\")\n",
    "add_index_column(df_user, \"Age\")\n",
    "add_index_column(df_user, \"Occupation\")\n",
    "add_index_column(df_movie, \"MovieID\")\n",
    "add_index_column(df_movie, \"Genres\")"
   ]
  },
  {
   "cell_type": "code",
   "execution_count": 117,
   "id": "a5cf3776-45b6-4e79-81a4-fb76e37dd037",
   "metadata": {},
   "outputs": [
    {
     "data": {
      "text/html": [
       "<div>\n",
       "<style scoped>\n",
       "    .dataframe tbody tr th:only-of-type {\n",
       "        vertical-align: middle;\n",
       "    }\n",
       "\n",
       "    .dataframe tbody tr th {\n",
       "        vertical-align: top;\n",
       "    }\n",
       "\n",
       "    .dataframe thead th {\n",
       "        text-align: right;\n",
       "    }\n",
       "</style>\n",
       "<table border=\"1\" class=\"dataframe\">\n",
       "  <thead>\n",
       "    <tr style=\"text-align: right;\">\n",
       "      <th></th>\n",
       "      <th>UserID</th>\n",
       "      <th>Gender</th>\n",
       "      <th>Age</th>\n",
       "      <th>Occupation</th>\n",
       "      <th>Zip-code</th>\n",
       "      <th>UserID_idx</th>\n",
       "      <th>Gender_idx</th>\n",
       "      <th>Age_idx</th>\n",
       "      <th>Occupation_idx</th>\n",
       "    </tr>\n",
       "  </thead>\n",
       "  <tbody>\n",
       "    <tr>\n",
       "      <th>0</th>\n",
       "      <td>1</td>\n",
       "      <td>F</td>\n",
       "      <td>1</td>\n",
       "      <td>10</td>\n",
       "      <td>48067</td>\n",
       "      <td>0</td>\n",
       "      <td>0</td>\n",
       "      <td>0</td>\n",
       "      <td>0</td>\n",
       "    </tr>\n",
       "    <tr>\n",
       "      <th>1</th>\n",
       "      <td>2</td>\n",
       "      <td>M</td>\n",
       "      <td>56</td>\n",
       "      <td>16</td>\n",
       "      <td>70072</td>\n",
       "      <td>1</td>\n",
       "      <td>1</td>\n",
       "      <td>1</td>\n",
       "      <td>1</td>\n",
       "    </tr>\n",
       "    <tr>\n",
       "      <th>2</th>\n",
       "      <td>3</td>\n",
       "      <td>M</td>\n",
       "      <td>25</td>\n",
       "      <td>15</td>\n",
       "      <td>55117</td>\n",
       "      <td>2</td>\n",
       "      <td>1</td>\n",
       "      <td>2</td>\n",
       "      <td>2</td>\n",
       "    </tr>\n",
       "    <tr>\n",
       "      <th>3</th>\n",
       "      <td>4</td>\n",
       "      <td>M</td>\n",
       "      <td>45</td>\n",
       "      <td>7</td>\n",
       "      <td>02460</td>\n",
       "      <td>3</td>\n",
       "      <td>1</td>\n",
       "      <td>3</td>\n",
       "      <td>3</td>\n",
       "    </tr>\n",
       "    <tr>\n",
       "      <th>4</th>\n",
       "      <td>5</td>\n",
       "      <td>M</td>\n",
       "      <td>25</td>\n",
       "      <td>20</td>\n",
       "      <td>55455</td>\n",
       "      <td>4</td>\n",
       "      <td>1</td>\n",
       "      <td>2</td>\n",
       "      <td>4</td>\n",
       "    </tr>\n",
       "  </tbody>\n",
       "</table>\n",
       "</div>"
      ],
      "text/plain": [
       "   UserID Gender  Age  Occupation Zip-code  UserID_idx  Gender_idx  Age_idx  \\\n",
       "0       1      F    1          10    48067           0           0        0   \n",
       "1       2      M   56          16    70072           1           1        1   \n",
       "2       3      M   25          15    55117           2           1        2   \n",
       "3       4      M   45           7    02460           3           1        3   \n",
       "4       5      M   25          20    55455           4           1        2   \n",
       "\n",
       "   Occupation_idx  \n",
       "0               0  \n",
       "1               1  \n",
       "2               2  \n",
       "3               3  \n",
       "4               4  "
      ]
     },
     "execution_count": 117,
     "metadata": {},
     "output_type": "execute_result"
    }
   ],
   "source": [
    "df_user.head()"
   ]
  },
  {
   "cell_type": "code",
   "execution_count": 118,
   "id": "81fc6e44-7095-40a5-9ddf-bcacf3e7cdbf",
   "metadata": {},
   "outputs": [],
   "source": [
    "df_movie.to_csv(\"./recsys-web/resources/movies.csv\", index=False)"
   ]
  },
  {
   "cell_type": "code",
   "execution_count": 119,
   "id": "6c07f5cb-0a4c-4e73-ae15-cb0780bdd828",
   "metadata": {},
   "outputs": [
    {
     "data": {
      "text/html": [
       "<div>\n",
       "<style scoped>\n",
       "    .dataframe tbody tr th:only-of-type {\n",
       "        vertical-align: middle;\n",
       "    }\n",
       "\n",
       "    .dataframe tbody tr th {\n",
       "        vertical-align: top;\n",
       "    }\n",
       "\n",
       "    .dataframe thead th {\n",
       "        text-align: right;\n",
       "    }\n",
       "</style>\n",
       "<table border=\"1\" class=\"dataframe\">\n",
       "  <thead>\n",
       "    <tr style=\"text-align: right;\">\n",
       "      <th></th>\n",
       "      <th>MovieID</th>\n",
       "      <th>Title</th>\n",
       "      <th>Genres</th>\n",
       "      <th>MovieID_idx</th>\n",
       "      <th>Genres_idx</th>\n",
       "    </tr>\n",
       "  </thead>\n",
       "  <tbody>\n",
       "    <tr>\n",
       "      <th>0</th>\n",
       "      <td>1</td>\n",
       "      <td>Toy Story (1995)</td>\n",
       "      <td>Comedy</td>\n",
       "      <td>0</td>\n",
       "      <td>0</td>\n",
       "    </tr>\n",
       "    <tr>\n",
       "      <th>1</th>\n",
       "      <td>2</td>\n",
       "      <td>Jumanji (1995)</td>\n",
       "      <td>Adventure</td>\n",
       "      <td>1</td>\n",
       "      <td>1</td>\n",
       "    </tr>\n",
       "    <tr>\n",
       "      <th>2</th>\n",
       "      <td>3</td>\n",
       "      <td>Grumpier Old Men (1995)</td>\n",
       "      <td>Comedy</td>\n",
       "      <td>2</td>\n",
       "      <td>0</td>\n",
       "    </tr>\n",
       "    <tr>\n",
       "      <th>3</th>\n",
       "      <td>4</td>\n",
       "      <td>Waiting to Exhale (1995)</td>\n",
       "      <td>Drama</td>\n",
       "      <td>3</td>\n",
       "      <td>2</td>\n",
       "    </tr>\n",
       "    <tr>\n",
       "      <th>4</th>\n",
       "      <td>5</td>\n",
       "      <td>Father of the Bride Part II (1995)</td>\n",
       "      <td>Comedy</td>\n",
       "      <td>4</td>\n",
       "      <td>0</td>\n",
       "    </tr>\n",
       "  </tbody>\n",
       "</table>\n",
       "</div>"
      ],
      "text/plain": [
       "   MovieID                               Title     Genres  MovieID_idx  \\\n",
       "0        1                    Toy Story (1995)     Comedy            0   \n",
       "1        2                      Jumanji (1995)  Adventure            1   \n",
       "2        3             Grumpier Old Men (1995)     Comedy            2   \n",
       "3        4            Waiting to Exhale (1995)      Drama            3   \n",
       "4        5  Father of the Bride Part II (1995)     Comedy            4   \n",
       "\n",
       "   Genres_idx  \n",
       "0           0  \n",
       "1           1  \n",
       "2           0  \n",
       "3           2  \n",
       "4           0  "
      ]
     },
     "execution_count": 119,
     "metadata": {},
     "output_type": "execute_result"
    }
   ],
   "source": [
    "df_movie.head()"
   ]
  },
  {
   "cell_type": "code",
   "execution_count": 120,
   "id": "ac84f1f8-205c-4b3a-89b7-4f9211d0f25e",
   "metadata": {},
   "outputs": [],
   "source": [
    "# 合并成一个df\n",
    "df = pd.merge(pd.merge(df_rating, df_user), df_movie)\n",
    "df.drop(columns=[\"Timestamp\", \"Zip-code\", \"Title\"], inplace=True)"
   ]
  },
  {
   "cell_type": "code",
   "execution_count": 121,
   "id": "e36d7fb1-28b5-484b-ad90-2e8f7a02c1e5",
   "metadata": {},
   "outputs": [
    {
     "data": {
      "text/html": [
       "<div>\n",
       "<style scoped>\n",
       "    .dataframe tbody tr th:only-of-type {\n",
       "        vertical-align: middle;\n",
       "    }\n",
       "\n",
       "    .dataframe tbody tr th {\n",
       "        vertical-align: top;\n",
       "    }\n",
       "\n",
       "    .dataframe thead th {\n",
       "        text-align: right;\n",
       "    }\n",
       "</style>\n",
       "<table border=\"1\" class=\"dataframe\">\n",
       "  <thead>\n",
       "    <tr style=\"text-align: right;\">\n",
       "      <th></th>\n",
       "      <th>UserID</th>\n",
       "      <th>MovieID</th>\n",
       "      <th>Rating</th>\n",
       "      <th>Gender</th>\n",
       "      <th>Age</th>\n",
       "      <th>Occupation</th>\n",
       "      <th>UserID_idx</th>\n",
       "      <th>Gender_idx</th>\n",
       "      <th>Age_idx</th>\n",
       "      <th>Occupation_idx</th>\n",
       "      <th>Genres</th>\n",
       "      <th>MovieID_idx</th>\n",
       "      <th>Genres_idx</th>\n",
       "    </tr>\n",
       "  </thead>\n",
       "  <tbody>\n",
       "    <tr>\n",
       "      <th>260550</th>\n",
       "      <td>5208</td>\n",
       "      <td>2716</td>\n",
       "      <td>5</td>\n",
       "      <td>M</td>\n",
       "      <td>25</td>\n",
       "      <td>4</td>\n",
       "      <td>5207</td>\n",
       "      <td>1</td>\n",
       "      <td>2</td>\n",
       "      <td>12</td>\n",
       "      <td>Comedy</td>\n",
       "      <td>2647</td>\n",
       "      <td>0</td>\n",
       "    </tr>\n",
       "    <tr>\n",
       "      <th>792493</th>\n",
       "      <td>3401</td>\n",
       "      <td>3846</td>\n",
       "      <td>2</td>\n",
       "      <td>M</td>\n",
       "      <td>35</td>\n",
       "      <td>7</td>\n",
       "      <td>3400</td>\n",
       "      <td>1</td>\n",
       "      <td>5</td>\n",
       "      <td>3</td>\n",
       "      <td>Comedy</td>\n",
       "      <td>3776</td>\n",
       "      <td>0</td>\n",
       "    </tr>\n",
       "    <tr>\n",
       "      <th>597972</th>\n",
       "      <td>654</td>\n",
       "      <td>1783</td>\n",
       "      <td>3</td>\n",
       "      <td>M</td>\n",
       "      <td>50</td>\n",
       "      <td>7</td>\n",
       "      <td>653</td>\n",
       "      <td>1</td>\n",
       "      <td>4</td>\n",
       "      <td>3</td>\n",
       "      <td>Thriller</td>\n",
       "      <td>1725</td>\n",
       "      <td>5</td>\n",
       "    </tr>\n",
       "  </tbody>\n",
       "</table>\n",
       "</div>"
      ],
      "text/plain": [
       "        UserID  MovieID  Rating Gender  Age  Occupation  UserID_idx  \\\n",
       "260550    5208     2716       5      M   25           4        5207   \n",
       "792493    3401     3846       2      M   35           7        3400   \n",
       "597972     654     1783       3      M   50           7         653   \n",
       "\n",
       "        Gender_idx  Age_idx  Occupation_idx    Genres  MovieID_idx  Genres_idx  \n",
       "260550           1        2              12    Comedy         2647           0  \n",
       "792493           1        5               3    Comedy         3776           0  \n",
       "597972           1        4               3  Thriller         1725           5  "
      ]
     },
     "execution_count": 121,
     "metadata": {},
     "output_type": "execute_result"
    }
   ],
   "source": [
    "df.sample(frac=1).head(3)"
   ]
  },
  {
   "cell_type": "code",
   "execution_count": 122,
   "id": "a1af6ba7-464c-45e1-96ef-64e5821af83f",
   "metadata": {},
   "outputs": [
    {
     "data": {
      "text/plain": [
       "(6040, 3883, 2, 7, 21, 18)"
      ]
     },
     "execution_count": 122,
     "metadata": {},
     "output_type": "execute_result"
    }
   ],
   "source": [
    "num_users = df[\"UserID_idx\"].max() + 1\n",
    "num_movies = df[\"MovieID_idx\"].max() + 1\n",
    "num_genders = df[\"Gender_idx\"].max() + 1\n",
    "num_ages = df[\"Age_idx\"].max() + 1\n",
    "num_occupations = df[\"Occupation_idx\"].max() + 1\n",
    "num_genres = df[\"Genres_idx\"].max() + 1\n",
    "\n",
    "num_users, num_movies, num_genders, num_ages, num_occupations, num_genres"
   ]
  },
  {
   "cell_type": "code",
   "execution_count": 123,
   "id": "c3c97752-b68d-4402-a949-f1cfb5ec6486",
   "metadata": {},
   "outputs": [
    {
     "data": {
      "text/html": [
       "<div>\n",
       "<style scoped>\n",
       "    .dataframe tbody tr th:only-of-type {\n",
       "        vertical-align: middle;\n",
       "    }\n",
       "\n",
       "    .dataframe tbody tr th {\n",
       "        vertical-align: top;\n",
       "    }\n",
       "\n",
       "    .dataframe thead th {\n",
       "        text-align: right;\n",
       "    }\n",
       "</style>\n",
       "<table border=\"1\" class=\"dataframe\">\n",
       "  <thead>\n",
       "    <tr style=\"text-align: right;\">\n",
       "      <th></th>\n",
       "      <th>UserID</th>\n",
       "      <th>MovieID</th>\n",
       "      <th>Rating</th>\n",
       "      <th>Gender</th>\n",
       "      <th>Age</th>\n",
       "      <th>Occupation</th>\n",
       "      <th>UserID_idx</th>\n",
       "      <th>Gender_idx</th>\n",
       "      <th>Age_idx</th>\n",
       "      <th>Occupation_idx</th>\n",
       "      <th>Genres</th>\n",
       "      <th>MovieID_idx</th>\n",
       "      <th>Genres_idx</th>\n",
       "    </tr>\n",
       "  </thead>\n",
       "  <tbody>\n",
       "    <tr>\n",
       "      <th>979074</th>\n",
       "      <td>2102</td>\n",
       "      <td>613</td>\n",
       "      <td>0.25</td>\n",
       "      <td>M</td>\n",
       "      <td>25</td>\n",
       "      <td>11</td>\n",
       "      <td>2101</td>\n",
       "      <td>1</td>\n",
       "      <td>2</td>\n",
       "      <td>13</td>\n",
       "      <td>Drama</td>\n",
       "      <td>609</td>\n",
       "      <td>2</td>\n",
       "    </tr>\n",
       "    <tr>\n",
       "      <th>8558</th>\n",
       "      <td>2907</td>\n",
       "      <td>1287</td>\n",
       "      <td>1.00</td>\n",
       "      <td>F</td>\n",
       "      <td>35</td>\n",
       "      <td>5</td>\n",
       "      <td>2906</td>\n",
       "      <td>0</td>\n",
       "      <td>5</td>\n",
       "      <td>18</td>\n",
       "      <td>Drama</td>\n",
       "      <td>1267</td>\n",
       "      <td>2</td>\n",
       "    </tr>\n",
       "    <tr>\n",
       "      <th>947933</th>\n",
       "      <td>1746</td>\n",
       "      <td>2525</td>\n",
       "      <td>0.50</td>\n",
       "      <td>M</td>\n",
       "      <td>25</td>\n",
       "      <td>4</td>\n",
       "      <td>1745</td>\n",
       "      <td>1</td>\n",
       "      <td>2</td>\n",
       "      <td>12</td>\n",
       "      <td>Action</td>\n",
       "      <td>2456</td>\n",
       "      <td>3</td>\n",
       "    </tr>\n",
       "  </tbody>\n",
       "</table>\n",
       "</div>"
      ],
      "text/plain": [
       "        UserID  MovieID  Rating Gender  Age  Occupation  UserID_idx  \\\n",
       "979074    2102      613    0.25      M   25          11        2101   \n",
       "8558      2907     1287    1.00      F   35           5        2906   \n",
       "947933    1746     2525    0.50      M   25           4        1745   \n",
       "\n",
       "        Gender_idx  Age_idx  Occupation_idx  Genres  MovieID_idx  Genres_idx  \n",
       "979074           1        2              13   Drama          609           2  \n",
       "8558             0        5              18   Drama         1267           2  \n",
       "947933           1        2              12  Action         2456           3  "
      ]
     },
     "execution_count": 123,
     "metadata": {},
     "output_type": "execute_result"
    }
   ],
   "source": [
    "# 评分的归一化\n",
    "min_rating = df[\"Rating\"].min()\n",
    "max_rating = df[\"Rating\"].max()\n",
    "\n",
    "df[\"Rating\"] = df[\"Rating\"].map(lambda x : (x-min_rating)/(max_rating-min_rating))\n",
    "\n",
    "df.sample(frac=1).head(3)"
   ]
  },
  {
   "cell_type": "code",
   "execution_count": 124,
   "id": "27ec8001-89d5-4406-8d08-17c0e605ed6a",
   "metadata": {},
   "outputs": [],
   "source": [
    "# 构建训练数据集\n",
    "df_sample = df.sample(frac=0.1)\n",
    "X = df_sample[[\"UserID_idx\",\"Gender_idx\",\"Age_idx\",\"Occupation_idx\",\"MovieID_idx\",\"Genres_idx\"]]\n",
    "y = df_sample.pop(\"Rating\")"
   ]
  },
  {
   "cell_type": "code",
   "execution_count": 125,
   "id": "77292431-610a-4607-b776-e2ebcda5eaed",
   "metadata": {},
   "outputs": [],
   "source": [
    "def get_model():\n",
    "    \"\"\"函数式API搭建双塔DNN模型\"\"\"\n",
    "    \n",
    "    # 输入\n",
    "    user_id = keras.layers.Input(shape=(1,), name=\"user_id\")\n",
    "    gender = keras.layers.Input(shape=(1,), name=\"gender\")\n",
    "    age = keras.layers.Input(shape=(1,), name=\"age\")\n",
    "    occupation = keras.layers.Input(shape=(1,), name=\"occupation\")\n",
    "    movie_id = keras.layers.Input(shape=(1,), name=\"movie_id\")\n",
    "    genre = keras.layers.Input(shape=(1,), name=\"genre\")\n",
    "    \n",
    "    # user 塔\n",
    "    user_vector = tf.keras.layers.concatenate([\n",
    "            layers.Embedding(num_users, 100)(user_id), \n",
    "            layers.Embedding(num_genders, 2)(gender), \n",
    "            layers.Embedding(num_ages, 2)(age), \n",
    "            layers.Embedding(num_occupations, 2)(occupation)\n",
    "    ])\n",
    "    user_vector = layers.Dense(32, activation='relu')(user_vector)\n",
    "    user_vector = layers.Dense(8, activation='relu', \n",
    "                               name=\"user_embedding\", kernel_regularizer='l2')(user_vector)\n",
    "\n",
    "    # movie塔\n",
    "    movie_vector = tf.keras.layers.concatenate([\n",
    "        layers.Embedding(num_movies, 100)(movie_id),\n",
    "        layers.Embedding(num_genres, 2)(genre)\n",
    "    ])\n",
    "    movie_vector = layers.Dense(32, activation='relu')(movie_vector)\n",
    "    movie_vector = layers.Dense(8, activation='relu', \n",
    "                                name=\"movie_embedding\", kernel_regularizer='l2')(movie_vector)\n",
    "\n",
    "    # 每个用户的embedding和item的embedding作点积\n",
    "    dot_user_movie = tf.reduce_sum(user_vector*movie_vector, axis = 1)\n",
    "    dot_user_movie = tf.expand_dims(dot_user_movie, 1)\n",
    "\n",
    "    output = layers.Dense(1, activation='sigmoid')(dot_user_movie)\n",
    "    \n",
    "    return keras.models.Model(inputs=[user_id, gender, age, occupation, movie_id, genre], outputs=[output])"
   ]
  },
  {
   "cell_type": "code",
   "execution_count": 97,
   "id": "f0fa9e53-dc65-4828-a353-b56146c62c4f",
   "metadata": {},
   "outputs": [],
   "source": [
    "model = get_model()\n",
    "model.compile(loss=tf.keras.losses.MeanSquaredError(), \n",
    "              optimizer=keras.optimizers.RMSprop())"
   ]
  },
  {
   "cell_type": "code",
   "execution_count": 98,
   "id": "c123b3f0-ba08-4e3b-95ce-5726caa20201",
   "metadata": {},
   "outputs": [
    {
     "name": "stdout",
     "output_type": "stream",
     "text": [
      "Epoch 1/5\n",
      "3126/3126 [==============================] - 5s 1ms/step - loss: 0.1016\n",
      "Epoch 2/5\n",
      "3126/3126 [==============================] - 4s 1ms/step - loss: 0.0566\n",
      "Epoch 3/5\n",
      "3126/3126 [==============================] - 4s 1ms/step - loss: 0.0534\n",
      "Epoch 4/5\n",
      "3126/3126 [==============================] - 4s 1ms/step - loss: 0.0528\n",
      "Epoch 5/5\n",
      "3126/3126 [==============================] - 4s 1ms/step - loss: 0.0523\n"
     ]
    }
   ],
   "source": [
    "fit_x_train = [\n",
    "        X[\"UserID_idx\"], \n",
    "        X[\"Gender_idx\"],\n",
    "        X[\"Age_idx\"],\n",
    "        X[\"Occupation_idx\"],\n",
    "        X[\"MovieID_idx\"],\n",
    "        X[\"Genres_idx\"]\n",
    "    ]\n",
    "\n",
    "from datetime import datetime\n",
    "TIMESTAMP = \"{0:%Y-%m-%dT%H-%M-%S/}\".format(datetime.now())\n",
    "tensorboard_callback = tf.keras.callbacks.TensorBoard(log_dir=\"./logs/logs_\"+TIMESTAMP)\n",
    "\n",
    "history = model.fit(\n",
    "    x=fit_x_train,\n",
    "    y=y,\n",
    "    batch_size=32,\n",
    "    epochs=5,\n",
    "    verbose=1,\n",
    "    callbacks=[tensorboard_callback]\n",
    ")"
   ]
  },
  {
   "cell_type": "code",
   "execution_count": 99,
   "id": "fc9919dc-7e76-4b39-832c-1b2e4cab4e8d",
   "metadata": {},
   "outputs": [],
   "source": [
    "# 模型的预估-predict\n",
    "inputs = df.sample(frac=1.0)[\n",
    "    [\"UserID_idx\",\"Gender_idx\",\"Age_idx\",\"Occupation_idx\",\"MovieID_idx\", \"Genres_idx\"]].head(10)"
   ]
  },
  {
   "cell_type": "code",
   "execution_count": 100,
   "id": "0d0fb4b2-b777-4fc7-aaf2-e075bcd8e38a",
   "metadata": {},
   "outputs": [
    {
     "data": {
      "text/plain": [
       "array([[[0.30857152]],\n",
       "\n",
       "       [[0.6934257 ]],\n",
       "\n",
       "       [[0.8471228 ]],\n",
       "\n",
       "       [[0.65442336]],\n",
       "\n",
       "       [[0.8043971 ]],\n",
       "\n",
       "       [[0.47179425]],\n",
       "\n",
       "       [[0.87422776]],\n",
       "\n",
       "       [[0.7520877 ]],\n",
       "\n",
       "       [[0.7441046 ]],\n",
       "\n",
       "       [[0.55641824]]], dtype=float32)"
      ]
     },
     "execution_count": 100,
     "metadata": {},
     "output_type": "execute_result"
    }
   ],
   "source": [
    "# 对于（用户ID，召回的电影ID列表），计算分数\n",
    "model.predict([\n",
    "        inputs[\"UserID_idx\"], \n",
    "        inputs[\"Gender_idx\"],\n",
    "        inputs[\"Age_idx\"],\n",
    "        inputs[\"Occupation_idx\"],\n",
    "        inputs[\"MovieID_idx\"],\n",
    "        inputs[\"Genres_idx\"]\n",
    "    ])"
   ]
  },
  {
   "cell_type": "code",
   "execution_count": 101,
   "id": "f82bf36c-af18-4142-9b2b-fe1d0441055b",
   "metadata": {},
   "outputs": [
    {
     "name": "stdout",
     "output_type": "stream",
     "text": [
      "INFO:tensorflow:Assets written to: ./rmodels/assets\n"
     ]
    }
   ],
   "source": [
    "tf.saved_model.save(model,\"./rmodels\") # user_embedding_model定义模型输入\n",
    "#model.save(\"./datas/ml-latest-small/tensorflow_two_tower.h5\")"
   ]
  },
  {
   "cell_type": "code",
   "execution_count": 102,
   "id": "71d561b1-bcde-45d9-8a3a-82dd2c569ea8",
   "metadata": {},
   "outputs": [],
   "source": [
    "new_model = tf.keras.models.load_model(\"./rmodels\")"
   ]
  },
  {
   "cell_type": "code",
   "execution_count": 103,
   "id": "17837f2a-a76f-40f3-a601-3b6a240a14ca",
   "metadata": {},
   "outputs": [
    {
     "data": {
      "text/plain": [
       "array([[[0.30857152]],\n",
       "\n",
       "       [[0.6934257 ]],\n",
       "\n",
       "       [[0.8471228 ]],\n",
       "\n",
       "       [[0.65442336]],\n",
       "\n",
       "       [[0.8043971 ]],\n",
       "\n",
       "       [[0.47179425]],\n",
       "\n",
       "       [[0.87422776]],\n",
       "\n",
       "       [[0.7520877 ]],\n",
       "\n",
       "       [[0.7441046 ]],\n",
       "\n",
       "       [[0.55641824]]], dtype=float32)"
      ]
     },
     "execution_count": 103,
     "metadata": {},
     "output_type": "execute_result"
    }
   ],
   "source": [
    "# 对于（用户ID，召回的电影ID列表），计算分数\n",
    "new_model.predict([\n",
    "        inputs[\"UserID_idx\"], \n",
    "        inputs[\"Gender_idx\"],\n",
    "        inputs[\"Age_idx\"],\n",
    "        inputs[\"Occupation_idx\"],\n",
    "        inputs[\"MovieID_idx\"],\n",
    "        inputs[\"Genres_idx\"]\n",
    "    ])"
   ]
  },
  {
   "cell_type": "code",
   "execution_count": 104,
   "id": "0ef8d851-5755-4766-909e-5dc91200874c",
   "metadata": {},
   "outputs": [],
   "source": [
    "# 保存模型的embedding可用于召回"
   ]
  },
  {
   "cell_type": "code",
   "execution_count": 105,
   "id": "5693ed46-eb27-4431-b4e5-20b5445f01fd",
   "metadata": {},
   "outputs": [],
   "source": [
    "# 得到user embedding"
   ]
  },
  {
   "cell_type": "code",
   "execution_count": 106,
   "id": "e8b14c52-a937-49e5-a0fa-fb8877613a30",
   "metadata": {},
   "outputs": [
    {
     "data": {
      "text/plain": [
       "[<KerasTensor: shape=(None, 1) dtype=float32 (created by layer 'user_id')>,\n",
       " <KerasTensor: shape=(None, 1) dtype=float32 (created by layer 'gender')>,\n",
       " <KerasTensor: shape=(None, 1) dtype=float32 (created by layer 'age')>,\n",
       " <KerasTensor: shape=(None, 1) dtype=float32 (created by layer 'occupation')>,\n",
       " <KerasTensor: shape=(None, 1) dtype=float32 (created by layer 'movie_id')>,\n",
       " <KerasTensor: shape=(None, 1) dtype=float32 (created by layer 'genre')>]"
      ]
     },
     "execution_count": 106,
     "metadata": {},
     "output_type": "execute_result"
    }
   ],
   "source": [
    "model.input"
   ]
  },
  {
   "cell_type": "code",
   "execution_count": 23,
   "id": "4489b4f1-d192-4b99-9eb4-757eef304a49",
   "metadata": {},
   "outputs": [],
   "source": [
    "user_layer_model = keras.models.Model(\n",
    "    inputs=[model.input[0], model.input[1], model.input[2], model.input[3]],\n",
    "    outputs=model.get_layer(\"user_embedding\").output\n",
    ")"
   ]
  },
  {
   "cell_type": "code",
   "execution_count": 24,
   "id": "f37695fa-3da9-4a10-99f2-7202eea480db",
   "metadata": {},
   "outputs": [],
   "source": [
    "user_embeddings = []\n",
    "for index, row in df_user.iterrows():\n",
    "    user_id = row[\"UserID\"]\n",
    "    user_input = [\n",
    "        np.reshape(row[\"UserID_idx\"], [1,1]),\n",
    "        np.reshape(row[\"Gender_idx\"], [1,1]),\n",
    "        np.reshape(row[\"Age_idx\"], [1,1]),\n",
    "        np.reshape(row[\"Occupation_idx\"], [1,1])\n",
    "    ]\n",
    "    user_embedding = user_layer_model(user_input)\n",
    "    \n",
    "    embedding_str = \",\".join([str(x) for x in user_embedding.numpy().flatten()])\n",
    "    user_embeddings.append([user_id, embedding_str])"
   ]
  },
  {
   "cell_type": "code",
   "execution_count": 108,
   "id": "810a3058-1052-48e5-84ba-b8a05b62c0b4",
   "metadata": {},
   "outputs": [],
   "source": [
    "df_user_embedding = pd.DataFrame(user_embeddings, columns = [\"user_id\", \"user_embedding\"])\n",
    "#df_user_embedding[\"user_embedding\"] = df_user_embedding[\"user_embedding\"].map(lambda x : np.array(json.loads(x)))\n",
    "#df_user_embedding3 = dict(zip(df_user_embedding['user_id'], df_user_embedding['user_embedding']))\n",
    "#print(type(df_user_embedding3))\n",
    "#df_user_embedding1 = json.dumps(df_user_embedding)\n",
    "#df1 = df_user_embedding.values.tolist()\n",
    "#print(df_user_embedding1)"
   ]
  },
  {
   "cell_type": "code",
   "execution_count": 68,
   "id": "257953ad-2ae9-44e6-b5e7-407c46321ee3",
   "metadata": {},
   "outputs": [
    {
     "ename": "AttributeError",
     "evalue": "'list' object has no attribute 'to_csv'",
     "output_type": "error",
     "traceback": [
      "\u001b[0;31m---------------------------------------------------------------------------\u001b[0m",
      "\u001b[0;31mAttributeError\u001b[0m                            Traceback (most recent call last)",
      "\u001b[0;32m<ipython-input-68-28378e5486e3>\u001b[0m in \u001b[0;36m<module>\u001b[0;34m\u001b[0m\n\u001b[1;32m      1\u001b[0m \u001b[0moutput\u001b[0m \u001b[0;34m=\u001b[0m \u001b[0;34m\"./recsys-web/resources/user_embedding.csv\"\u001b[0m\u001b[0;34m\u001b[0m\u001b[0;34m\u001b[0m\u001b[0m\n\u001b[0;32m----> 2\u001b[0;31m \u001b[0mdf1\u001b[0m\u001b[0;34m.\u001b[0m\u001b[0mto_csv\u001b[0m\u001b[0;34m(\u001b[0m\u001b[0moutput\u001b[0m\u001b[0;34m,\u001b[0m \u001b[0mindex\u001b[0m\u001b[0;34m=\u001b[0m\u001b[0;32mFalse\u001b[0m\u001b[0;34m)\u001b[0m\u001b[0;34m\u001b[0m\u001b[0;34m\u001b[0m\u001b[0m\n\u001b[0m",
      "\u001b[0;31mAttributeError\u001b[0m: 'list' object has no attribute 'to_csv'"
     ]
    }
   ],
   "source": [
    "output = \"./recsys-web/resources/user_embedding.csv\"\n",
    "df1.to_csv(output, index=False)"
   ]
  },
  {
   "cell_type": "code",
   "execution_count": 34,
   "id": "ec66dec4-fcb3-40ec-a660-24f4d1c72587",
   "metadata": {},
   "outputs": [],
   "source": [
    "# 得到movie embedding"
   ]
  },
  {
   "cell_type": "code",
   "execution_count": 35,
   "id": "4c901298-76f4-4634-8201-605a3f6b9866",
   "metadata": {},
   "outputs": [
    {
     "data": {
      "text/plain": [
       "[<KerasTensor: shape=(None, 1) dtype=float32 (created by layer 'user_id')>,\n",
       " <KerasTensor: shape=(None, 1) dtype=float32 (created by layer 'gender')>,\n",
       " <KerasTensor: shape=(None, 1) dtype=float32 (created by layer 'age')>,\n",
       " <KerasTensor: shape=(None, 1) dtype=float32 (created by layer 'occupation')>,\n",
       " <KerasTensor: shape=(None, 1) dtype=float32 (created by layer 'movie_id')>,\n",
       " <KerasTensor: shape=(None, 1) dtype=float32 (created by layer 'genre')>]"
      ]
     },
     "execution_count": 35,
     "metadata": {},
     "output_type": "execute_result"
    }
   ],
   "source": [
    "model.input"
   ]
  },
  {
   "cell_type": "code",
   "execution_count": 36,
   "id": "74b51062-acdd-47fa-98b6-ee19415ddca3",
   "metadata": {},
   "outputs": [],
   "source": [
    "movie_layer_model = keras.models.Model(\n",
    "    inputs=[model.input[4], model.input[5]],\n",
    "    outputs=model.get_layer(\"movie_embedding\").output\n",
    ")"
   ]
  },
  {
   "cell_type": "code",
   "execution_count": 37,
   "id": "a6331c54-a610-479d-a97f-c19bc2c8b34b",
   "metadata": {},
   "outputs": [],
   "source": [
    "movie_embeddings = []\n",
    "for index, row in df_movie.iterrows():\n",
    "    movie_id = row[\"MovieID\"]\n",
    "    movie_input = [\n",
    "        np.reshape(row[\"MovieID_idx\"], [1,1]),\n",
    "        np.reshape(row[\"Genres_idx\"], [1,1])\n",
    "    ]\n",
    "    movie_embedding = movie_layer_model(movie_input)\n",
    "    \n",
    "    embedding_str = \",\".join([str(x) for x in movie_embedding.numpy().flatten()])\n",
    "    movie_embeddings.append([movie_id, embedding_str])"
   ]
  },
  {
   "cell_type": "code",
   "execution_count": 107,
   "id": "74f70fdd-bbce-449f-b6b8-9f610b4d32a5",
   "metadata": {},
   "outputs": [
    {
     "ename": "NameError",
     "evalue": "name 'movie_embeddings' is not defined",
     "output_type": "error",
     "traceback": [
      "\u001b[0;31m---------------------------------------------------------------------------\u001b[0m",
      "\u001b[0;31mNameError\u001b[0m                                 Traceback (most recent call last)",
      "\u001b[0;32m<ipython-input-107-8cf6f6c961e7>\u001b[0m in \u001b[0;36m<module>\u001b[0;34m\u001b[0m\n\u001b[0;32m----> 1\u001b[0;31m \u001b[0mdf_movie_embedding\u001b[0m \u001b[0;34m=\u001b[0m \u001b[0mpd\u001b[0m\u001b[0;34m.\u001b[0m\u001b[0mDataFrame\u001b[0m\u001b[0;34m(\u001b[0m\u001b[0mmovie_embeddings\u001b[0m\u001b[0;34m,\u001b[0m \u001b[0mcolumns\u001b[0m \u001b[0;34m=\u001b[0m \u001b[0;34m[\u001b[0m\u001b[0;34m\"movie_id\"\u001b[0m\u001b[0;34m,\u001b[0m \u001b[0;34m\"movie_embedding\"\u001b[0m\u001b[0;34m]\u001b[0m\u001b[0;34m)\u001b[0m\u001b[0;34m\u001b[0m\u001b[0;34m\u001b[0m\u001b[0m\n\u001b[0m\u001b[1;32m      2\u001b[0m \u001b[0mdf_movie_embedding\u001b[0m\u001b[0;34m.\u001b[0m\u001b[0mhead\u001b[0m\u001b[0;34m(\u001b[0m\u001b[0;34m)\u001b[0m\u001b[0;34m\u001b[0m\u001b[0;34m\u001b[0m\u001b[0m\n",
      "\u001b[0;31mNameError\u001b[0m: name 'movie_embeddings' is not defined"
     ]
    }
   ],
   "source": [
    "df_movie_embedding = pd.DataFrame(movie_embeddings, columns = [\"movie_id\", \"movie_embedding\"])\n",
    "df_movie_embedding.head()"
   ]
  },
  {
   "cell_type": "code",
   "execution_count": 39,
   "id": "31333be5-93fb-4f2d-8364-6fd0ae73a020",
   "metadata": {},
   "outputs": [],
   "source": [
    "output = \"./recsys-web/resources/item_embedding.csv\"\n",
    "df_movie_embedding.to_csv(output, index=False)"
   ]
  },
  {
   "cell_type": "code",
   "execution_count": 73,
   "id": "f0a1f4f6-6212-4a24-9075-5e0f4752c243",
   "metadata": {},
   "outputs": [],
   "source": [
    "data_pathss = \"/Users/ruilinwang/Desktop/recsys/recsys-web/resources/\"\n",
    "df_dict = pd.read_csv(data_pathss+'item_embedding.csv')"
   ]
  },
  {
   "cell_type": "code",
   "execution_count": 76,
   "id": "b726989e-9577-456f-8e00-987d1860a73a",
   "metadata": {},
   "outputs": [
    {
     "name": "stdout",
     "output_type": "stream",
     "text": [
      "0       [0.25866490602493286, 0.3560594320297241, 0.15...\n",
      "1       [0.12449632585048676, -0.29282501339912415, -0...\n",
      "2       [0.9557555317878723, 0.6764761805534363, 0.114...\n",
      "3       [0.3184879720211029, 0.6365472078323364, 0.596...\n",
      "4       [0.45523127913475037, 0.34402626752853394, -0....\n",
      "                              ...                        \n",
      "3701    [1.0018610954284668, 0.014720896258950233, -0....\n",
      "3702    [0.13435769081115723, 0.5507825613021851, -0.5...\n",
      "3703    [0.6164957284927368, 0.5210800766944885, 0.844...\n",
      "3704    [0.260995477437973, 0.3665539026260376, 0.1523...\n",
      "3705    [0.5620983839035034, 0.4703512191772461, 0.047...\n",
      "Name: features, Length: 3706, dtype: object\n"
     ]
    }
   ],
   "source": [
    "print(df_dict['features'])"
   ]
  },
  {
   "cell_type": "code",
   "execution_count": null,
   "id": "cc9687ad-fbd4-4f0e-a745-295f545c78dc",
   "metadata": {},
   "outputs": [],
   "source": []
  }
 ],
 "metadata": {
  "kernelspec": {
   "display_name": "Python 3",
   "language": "python",
   "name": "python3"
  },
  "language_info": {
   "codemirror_mode": {
    "name": "ipython",
    "version": 3
   },
   "file_extension": ".py",
   "mimetype": "text/x-python",
   "name": "python",
   "nbconvert_exporter": "python",
   "pygments_lexer": "ipython3",
   "version": "3.8.10"
  }
 },
 "nbformat": 4,
 "nbformat_minor": 5
}
